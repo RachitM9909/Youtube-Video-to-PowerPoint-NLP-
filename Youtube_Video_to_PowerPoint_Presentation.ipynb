{
  "nbformat": 4,
  "nbformat_minor": 0,
  "metadata": {
    "colab": {
      "provenance": []
    },
    "kernelspec": {
      "name": "python3",
      "display_name": "Python 3"
    },
    "language_info": {
      "name": "python"
    }
  },
  "cells": [
    {
      "cell_type": "code",
      "execution_count": null,
      "metadata": {
        "colab": {
          "base_uri": "https://localhost:8080/"
        },
        "id": "sgdBd4NimiSs",
        "outputId": "7acf159c-c542-434d-c9eb-8dc2c4c722a3"
      },
      "outputs": [
        {
          "output_type": "stream",
          "name": "stdout",
          "text": [
            "Collecting pytube\n",
            "  Downloading pytube-15.0.0-py3-none-any.whl (57 kB)\n",
            "\u001b[?25l     \u001b[90m━━━━━━━━━━━━━━━━━━━━━━━━━━━━━━━━━━━━━━━━\u001b[0m \u001b[32m0.0/57.6 kB\u001b[0m \u001b[31m?\u001b[0m eta \u001b[36m-:--:--\u001b[0m\r\u001b[2K     \u001b[90m━━━━━━━━━━━━━━━━━━━━━━━━━━━━━━━━━━━━━━━━\u001b[0m \u001b[32m57.6/57.6 kB\u001b[0m \u001b[31m1.5 MB/s\u001b[0m eta \u001b[36m0:00:00\u001b[0m\n",
            "\u001b[?25hRequirement already satisfied: moviepy in /usr/local/lib/python3.10/dist-packages (1.0.3)\n",
            "Requirement already satisfied: decorator<5.0,>=4.0.2 in /usr/local/lib/python3.10/dist-packages (from moviepy) (4.4.2)\n",
            "Requirement already satisfied: tqdm<5.0,>=4.11.2 in /usr/local/lib/python3.10/dist-packages (from moviepy) (4.66.1)\n",
            "Requirement already satisfied: requests<3.0,>=2.8.1 in /usr/local/lib/python3.10/dist-packages (from moviepy) (2.31.0)\n",
            "Requirement already satisfied: proglog<=1.0.0 in /usr/local/lib/python3.10/dist-packages (from moviepy) (0.1.10)\n",
            "Requirement already satisfied: numpy>=1.17.3 in /usr/local/lib/python3.10/dist-packages (from moviepy) (1.23.5)\n",
            "Requirement already satisfied: imageio<3.0,>=2.5 in /usr/local/lib/python3.10/dist-packages (from moviepy) (2.31.5)\n",
            "Requirement already satisfied: imageio-ffmpeg>=0.2.0 in /usr/local/lib/python3.10/dist-packages (from moviepy) (0.4.9)\n",
            "Requirement already satisfied: pillow>=8.3.2 in /usr/local/lib/python3.10/dist-packages (from imageio<3.0,>=2.5->moviepy) (9.4.0)\n",
            "Requirement already satisfied: setuptools in /usr/local/lib/python3.10/dist-packages (from imageio-ffmpeg>=0.2.0->moviepy) (67.7.2)\n",
            "Requirement already satisfied: charset-normalizer<4,>=2 in /usr/local/lib/python3.10/dist-packages (from requests<3.0,>=2.8.1->moviepy) (3.3.0)\n",
            "Requirement already satisfied: idna<4,>=2.5 in /usr/local/lib/python3.10/dist-packages (from requests<3.0,>=2.8.1->moviepy) (3.4)\n",
            "Requirement already satisfied: urllib3<3,>=1.21.1 in /usr/local/lib/python3.10/dist-packages (from requests<3.0,>=2.8.1->moviepy) (2.0.6)\n",
            "Requirement already satisfied: certifi>=2017.4.17 in /usr/local/lib/python3.10/dist-packages (from requests<3.0,>=2.8.1->moviepy) (2023.7.22)\n",
            "Installing collected packages: pytube\n",
            "Successfully installed pytube-15.0.0\n"
          ]
        }
      ],
      "source": [
        "pip install pytube moviepy\n"
      ]
    },
    {
      "cell_type": "code",
      "source": [
        "import os\n",
        "from pytube import YouTube\n",
        "from moviepy.editor import AudioFileClip\n",
        "\n",
        "# Function to convert a YouTube video to audio\n",
        "def convert_youtube_video_to_audio(url, output_path):\n",
        "    try:\n",
        "        # Create the output directory if it doesn't exist\n",
        "        os.makedirs(output_path, exist_ok=True)\n",
        "\n",
        "        # Step 1: Download the YouTube video\n",
        "        yt = YouTube(url)\n",
        "        video_stream = yt.streams.filter(only_audio=True).first()\n",
        "        video_stream.download(output_path='temp_video')\n",
        "\n",
        "        # Step 2: Convert the downloaded video to audio\n",
        "        video_path = f'temp_video/{yt.title}.mp4'\n",
        "        audio_path = f'{output_path}/{yt.title}.mp3'\n",
        "\n",
        "        video_clip = AudioFileClip(video_path)\n",
        "        video_clip.write_audiofile(audio_path)\n",
        "\n",
        "        print(f'Audio saved as {audio_path}')\n",
        "\n",
        "    except Exception as e:\n",
        "        print(f'Error: {str(e)}')\n",
        "\n",
        "# Example usage:\n",
        "if __name__ == \"__main__\":\n",
        "    youtube_url = \"https://www.youtube.com/watch?v=DgzxhDHjzms&ab_channel=TED-Ed\"\n",
        "    output_directory = \"output\"\n",
        "\n",
        "    convert_youtube_video_to_audio(youtube_url, output_directory)\n"
      ],
      "metadata": {
        "colab": {
          "base_uri": "https://localhost:8080/"
        },
        "id": "fYj1sVApm092",
        "outputId": "a3bc7513-3407-4e9b-a691-05b07cc5bcfa"
      },
      "execution_count": null,
      "outputs": [
        {
          "output_type": "stream",
          "name": "stdout",
          "text": [
            "MoviePy - Writing audio in output/This is what happens when you hit the gas - Shannon Odell.mp3\n"
          ]
        },
        {
          "output_type": "stream",
          "name": "stderr",
          "text": [
            "                                                                     "
          ]
        },
        {
          "output_type": "stream",
          "name": "stdout",
          "text": [
            "MoviePy - Done.\n",
            "Audio saved as output/This is what happens when you hit the gas - Shannon Odell.mp3\n"
          ]
        },
        {
          "output_type": "stream",
          "name": "stderr",
          "text": [
            "\r"
          ]
        }
      ]
    },
    {
      "cell_type": "code",
      "source": [
        "pip install SpeechRecognition pydub"
      ],
      "metadata": {
        "colab": {
          "base_uri": "https://localhost:8080/"
        },
        "id": "XflirWcLnbdl",
        "outputId": "4f16ab86-289b-4878-df37-90e3d6dbcf2c"
      },
      "execution_count": null,
      "outputs": [
        {
          "output_type": "stream",
          "name": "stdout",
          "text": [
            "Collecting SpeechRecognition\n",
            "  Downloading SpeechRecognition-3.10.0-py2.py3-none-any.whl (32.8 MB)\n",
            "\u001b[2K     \u001b[90m━━━━━━━━━━━━━━━━━━━━━━━━━━━━━━━━━━━━━━━━\u001b[0m \u001b[32m32.8/32.8 MB\u001b[0m \u001b[31m47.0 MB/s\u001b[0m eta \u001b[36m0:00:00\u001b[0m\n",
            "\u001b[?25hCollecting pydub\n",
            "  Downloading pydub-0.25.1-py2.py3-none-any.whl (32 kB)\n",
            "Requirement already satisfied: requests>=2.26.0 in /usr/local/lib/python3.10/dist-packages (from SpeechRecognition) (2.31.0)\n",
            "Requirement already satisfied: charset-normalizer<4,>=2 in /usr/local/lib/python3.10/dist-packages (from requests>=2.26.0->SpeechRecognition) (3.3.0)\n",
            "Requirement already satisfied: idna<4,>=2.5 in /usr/local/lib/python3.10/dist-packages (from requests>=2.26.0->SpeechRecognition) (3.4)\n",
            "Requirement already satisfied: urllib3<3,>=1.21.1 in /usr/local/lib/python3.10/dist-packages (from requests>=2.26.0->SpeechRecognition) (2.0.6)\n",
            "Requirement already satisfied: certifi>=2017.4.17 in /usr/local/lib/python3.10/dist-packages (from requests>=2.26.0->SpeechRecognition) (2023.7.22)\n",
            "Installing collected packages: pydub, SpeechRecognition\n",
            "Successfully installed SpeechRecognition-3.10.0 pydub-0.25.1\n"
          ]
        }
      ]
    },
    {
      "cell_type": "code",
      "source": [
        "import speech_recognition as sr"
      ],
      "metadata": {
        "id": "yufu6tn9o8xl"
      },
      "execution_count": null,
      "outputs": []
    },
    {
      "cell_type": "code",
      "source": [
        "pip install pydub\n"
      ],
      "metadata": {
        "colab": {
          "base_uri": "https://localhost:8080/"
        },
        "id": "4uADYP8iqEFh",
        "outputId": "bbae1309-3fc8-4ba9-908d-1090a2f25120"
      },
      "execution_count": null,
      "outputs": [
        {
          "output_type": "stream",
          "name": "stdout",
          "text": [
            "Requirement already satisfied: pydub in /usr/local/lib/python3.10/dist-packages (0.25.1)\n"
          ]
        }
      ]
    },
    {
      "cell_type": "code",
      "source": [
        "from pydub import AudioSegment\n",
        "import os\n",
        "\n",
        "mp3_file = \"output/One.mp3\"\n",
        "\n",
        "\n",
        "if not os.path.exists(mp3_file):\n",
        "    print(f\"Input file '{mp3_file}' does not exist.\")\n",
        "else:\n",
        "    # Load the MP3 audio\n",
        "    audio = AudioSegment.from_mp3(mp3_file)\n",
        "\n",
        "    # Define the output WAV file name\n",
        "    wav_file = \"output/One.wav\"\n",
        "\n",
        "    # Export the audio to WAV format\n",
        "    audio.export(wav_file, format=\"wav\")\n",
        "\n",
        "    print(f\"Converted {mp3_file} to {wav_file}\")\n"
      ],
      "metadata": {
        "colab": {
          "base_uri": "https://localhost:8080/"
        },
        "id": "OeAUvABXqHdS",
        "outputId": "130ed60f-8274-4fbc-f226-f0e3643c553f"
      },
      "execution_count": null,
      "outputs": [
        {
          "output_type": "stream",
          "name": "stdout",
          "text": [
            "Converted output/One.mp3 to output/One.wav\n"
          ]
        }
      ]
    },
    {
      "cell_type": "code",
      "source": [
        "\n",
        "\n",
        "# Path to the audio file\n",
        "filename = 'output/One.wav'\n"
      ],
      "metadata": {
        "id": "MQQvOx88pBaJ"
      },
      "execution_count": null,
      "outputs": []
    },
    {
      "cell_type": "code",
      "source": [
        "pip install pocketsphinx"
      ],
      "metadata": {
        "colab": {
          "base_uri": "https://localhost:8080/"
        },
        "id": "EWFj6nUh_X-p",
        "outputId": "dc6ea9bb-d8dc-4847-ad74-32b7da4c6853"
      },
      "execution_count": null,
      "outputs": [
        {
          "output_type": "stream",
          "name": "stdout",
          "text": [
            "Collecting pocketsphinx\n",
            "  Downloading pocketsphinx-5.0.2-cp310-cp310-manylinux_2_17_x86_64.manylinux2014_x86_64.whl (29.2 MB)\n",
            "\u001b[2K     \u001b[90m━━━━━━━━━━━━━━━━━━━━━━━━━━━━━━━━━━━━━━━━\u001b[0m \u001b[32m29.2/29.2 MB\u001b[0m \u001b[31m19.4 MB/s\u001b[0m eta \u001b[36m0:00:00\u001b[0m\n",
            "\u001b[?25hCollecting sounddevice (from pocketsphinx)\n",
            "  Downloading sounddevice-0.4.6-py3-none-any.whl (31 kB)\n",
            "Requirement already satisfied: CFFI>=1.0 in /usr/local/lib/python3.10/dist-packages (from sounddevice->pocketsphinx) (1.16.0)\n",
            "Requirement already satisfied: pycparser in /usr/local/lib/python3.10/dist-packages (from CFFI>=1.0->sounddevice->pocketsphinx) (2.21)\n",
            "Installing collected packages: sounddevice, pocketsphinx\n",
            "Successfully installed pocketsphinx-5.0.2 sounddevice-0.4.6\n"
          ]
        }
      ]
    },
    {
      "cell_type": "code",
      "source": [
        "import speech_recognition as sr\n",
        "\n",
        "recognizer = sr.Recognizer()\n",
        "\n",
        "# Load the WAV audio file\n",
        "audio_file = \"output/One.wav\"\n",
        "\n",
        "with sr.AudioFile(audio_file) as source:\n",
        "    audio_data = recognizer.record(source)  # Record the audio file\n",
        "\n",
        "    try:\n",
        "        text1 = recognizer.recognize_sphinx(audio_data)  # Use Sphinx recognizer\n",
        "        print(\"Transcription: \", text1)\n",
        "    except sr.UnknownValueError:\n",
        "        print(\"Sphinx could not understand audio\")\n",
        "    except sr.RequestError as e:\n",
        "        print(f\"Error with Sphinx recognizer: {e}\")\n"
      ],
      "metadata": {
        "id": "7j_zjJBG_aoh",
        "colab": {
          "base_uri": "https://localhost:8080/"
        },
        "outputId": "1740a9c8-dfe8-4517-88ae-43b6d3777f6f"
      },
      "execution_count": null,
      "outputs": [
        {
          "output_type": "stream",
          "name": "stdout",
          "text": [
            "Transcription:  all luna says in two thousand fifty two million drove volkswagen across the continental united states on just over one hundred gallons of fuel they are eating one mile for gala performance double the cars has to be the fuel reading and set the record for the wall with fuel consumption of raw head of the diesel cars that you will call themselves piper miners in the art experts in techniques that maximize of course fuel efficiency such as the halls and walk in the top drivers and celebrates the world until they're traveling slightly above the ring to it is being youth in slowly release the throttle and line until their slightly below invert don't understand why this strategy seems fuel at least first each one had what exactly is going on beneath the cars alert non electric cars wrong on internal combustion engines or lysine heats up cars often advertised as a warning before six thwart the cylinder engine which refers to these devices mean components up to the each of these cylinders beams of distant which moves up and down steaming up on known as a crane chap effectively converting the new motion unusual rotary motion that can drive the wheels of what powers these pistons movements is what he is these engines the earnings think combustion as the piston lowers the earth and fuel course bleed into the cylinders chained up thin as the piston rise of these beard and fuel mixture is compressed and gasoline engines start is introduced igniting the gaps in diesel engines decompression along create some mimi explosion this combustion causes an immediate increase in temperature and pressure propelling the piston down as it starts the cycle again up the gas pedal controls the amount of beer and subsequent fuel are released into the chamber on or fuel in the chamber a powerful the combustion making the crankshaft rotate faster driving down the highway i see the cars spark thousands of clasp on it but explosion car driving that is pretty inefficient as much of the energy generated is lost and hits in fact only sixteen to twenty five percent goes towards moving the wheels these explosions also krieg c. o. two and i seen him engines are produced fifteen percent of the tongue little girl when initiates the polls and glide can increase the efficiency for two reasons first one excel we mean to higher speeds during the polls the engine works at a high your efficiency come here to travel and constantly worst the insect modern car engines shut off fuel injection or i thought when he salary and new and it has the court lives over heels partridge and white inertial energy and rather than combustion ultimately saving fuel but even at their peak performance i see hyper eilers can't compete with the true champion of fuel efficiency riots the electric vehicle when he's wrong on induction motors which have to lean towards us peter inner wrote it this behavior is a series of wings with copper wires wrapped around it by conducting electricity and variable rates these wires for he knew teaching magnetic field at this field induces the rover with electrical current causing it to spin in driving the notion of the wheels for keith he's pressing on the accelerator changes the frequency of occurrence truth and into the wires of dusty dirt in turn increasing the rate at which the rollers and by utilizing battery power rather than gasoline sixty five to sixty nine percent of the energy consumed by it leaves goes to let the sun and lives in safety fuse don't free explosions fewer parts are needed below the bullet well a typical high seat here cole has over two thousand feet ports to hold container cool in the eighteenth combustion a typical teeth he has about twenty these these are completely changing the heifer my mind as drivers and key to travel the farthest on the fewest kilowatt hours and hit records will likely only get more impressive that sizzling of beating motorist and what else for the introduction of innovative energy saving device it fillings and mostly these few lies reaction to a break out where the energy normally lost friction is concerned it has the course for us the electric motor operates in reverse capturing the vehicles kinetic energy to recharge the batteries some companies which he didn't quit thinking he's with the rooftops will results for increasing their research since they don't you'll leave these has zero tailpipe emissions and that's not see they're always called a neutral he he's require regular charging of their batteries meeting during the mission profile is only has to and as the electric utility the plug into soap has little graves continue to shift towards renewable sources eve he's also becoming greener making them and even more attractive heiberg fish and auction for their steps you could be taking a vacation to going electric to reduce emissions absolutely visit and dante of dot com slash or school to learn more about the most impact full actions available to you into community and watched this video to learn if going solar can save you money\n"
          ]
        }
      ]
    },
    {
      "cell_type": "code",
      "source": [
        "len(text1)"
      ],
      "metadata": {
        "id": "dBJWFUGX1nye",
        "colab": {
          "base_uri": "https://localhost:8080/"
        },
        "outputId": "d68ba3a7-5dd5-4436-a72f-e4ab7ebcaf1c"
      },
      "execution_count": null,
      "outputs": [
        {
          "output_type": "execute_result",
          "data": {
            "text/plain": [
              "5036"
            ]
          },
          "metadata": {},
          "execution_count": 13
        }
      ]
    },
    {
      "cell_type": "code",
      "source": [
        "import nltk\n",
        "from nltk.corpus import stopwords\n",
        "from nltk.tokenize import word_tokenize, sent_tokenize\n",
        "\n",
        "nltk.download('punkt')  # Download NLTK tokenizer data\n",
        "nltk.download('stopwords')  # Download NLTK stop words\n",
        "\n",
        "# Sample text for summarization\n",
        "text = text1\n",
        "\n",
        "# Tokenize the text into sentences\n",
        "sentences = sent_tokenize(text)\n",
        "\n",
        "# Tokenize and remove stopwords from sentences\n",
        "stop_words = set(stopwords.words('english'))\n",
        "word_tokens = [word_tokenize(sentence) for sentence in sentences]\n",
        "filtered_sentences = [\n",
        "    \" \".join([word for word in words if word.lower() not in stop_words])\n",
        "    for words in word_tokens\n",
        "]\n",
        "\n",
        "# Calculate the score for each sentence based on word frequency\n",
        "word_frequencies = {}\n",
        "for sentence in filtered_sentences:\n",
        "    for word in word_tokenize(sentence):\n",
        "        if word not in word_frequencies:\n",
        "            word_frequencies[word] = 1\n",
        "        else:\n",
        "            word_frequencies[word] += 1\n",
        "\n",
        "sentence_scores = {}\n",
        "for sentence in filtered_sentences:\n",
        "    for word in word_tokenize(sentence):\n",
        "        if sentence not in sentence_scores:\n",
        "            sentence_scores[sentence] = word_frequencies[word]\n",
        "        else:\n",
        "            sentence_scores[sentence] += word_frequencies[word]\n",
        "\n",
        "# Get the summary sentences (top N sentences with the highest scores)\n",
        "import heapq\n",
        "summary_sentences = heapq.nlargest(2, sentence_scores, key=sentence_scores.get)\n",
        "\n",
        "# Join the summary sentences to create the summary\n",
        "summary = \" \".join(summary_sentences)\n",
        "print(summary)\n"
      ],
      "metadata": {
        "id": "vKEo35W7yL2T",
        "colab": {
          "base_uri": "https://localhost:8080/"
        },
        "outputId": "69cf4332-e840-4dbd-9e74-3187d6b34c20"
      },
      "execution_count": null,
      "outputs": [
        {
          "output_type": "stream",
          "name": "stderr",
          "text": [
            "[nltk_data] Downloading package punkt to /root/nltk_data...\n",
            "[nltk_data]   Unzipping tokenizers/punkt.zip.\n"
          ]
        },
        {
          "output_type": "stream",
          "name": "stdout",
          "text": [
            "luna says two thousand fifty two million drove volkswagen across continental united states one hundred gallons fuel eating one mile gala performance double cars fuel reading set record wall fuel consumption raw head diesel cars call piper miners art experts techniques maximize course fuel efficiency halls walk top drivers celebrates world 're traveling slightly ring youth slowly release throttle line slightly invert n't understand strategy seems fuel least first one exactly going beneath cars alert non electric cars wrong internal combustion engines lysine heats cars often advertised warning six thwart cylinder engine refers devices mean components cylinders beams distant moves steaming known crane chap effectively converting new motion unusual rotary motion drive wheels powers pistons movements engines earnings think combustion piston lowers earth fuel course bleed cylinders chained thin piston rise beard fuel mixture compressed gasoline engines start introduced igniting gaps diesel engines decompression along create mimi explosion combustion causes immediate increase temperature pressure propelling piston starts cycle gas pedal controls amount beer subsequent fuel released chamber fuel chamber powerful combustion making crankshaft rotate faster driving highway see cars spark thousands clasp explosion car driving pretty inefficient much energy generated lost hits fact sixteen twenty five percent goes towards moving wheels explosions also krieg c. o. two seen engines produced fifteen percent tongue little girl initiates polls glide increase efficiency two reasons first one excel mean higher speeds polls engine works high efficiency come travel constantly worst insect modern car engines shut fuel injection thought salary new court lives heels partridge white inertial energy rather combustion ultimately saving fuel even peak performance see hyper eilers ca n't compete true champion fuel efficiency riots electric vehicle 's wrong induction motors lean towards us peter inner wrote behavior series wings copper wires wrapped around conducting electricity variable rates wires knew teaching magnetic field field induces rover electrical current causing spin driving notion wheels keith 's pressing accelerator changes frequency occurrence truth wires dusty dirt turn increasing rate rollers utilizing battery power rather gasoline sixty five sixty nine percent energy consumed leaves goes let sun lives safety fuse n't free explosions fewer parts needed bullet well typical high seat cole two thousand feet ports hold container cool eighteenth combustion typical teeth twenty completely changing heifer mind drivers key travel farthest fewest kilowatt hours hit records likely get impressive sizzling beating motorist else introduction innovative energy saving device fillings mostly lies reaction break energy normally lost friction concerned course us electric motor operates reverse capturing vehicles kinetic energy recharge batteries companies n't quit thinking 's rooftops results increasing research since n't 'll leave zero tailpipe emissions 's see 're always called neutral 's require regular charging batteries meeting mission profile electric utility plug soap little graves continue shift towards renewable sources eve 's also becoming greener making even attractive heiberg fish auction steps could taking vacation going electric reduce emissions absolutely visit dante dot com slash school learn impact full actions available community watched video learn going solar save money\n"
          ]
        },
        {
          "output_type": "stream",
          "name": "stderr",
          "text": [
            "[nltk_data] Downloading package stopwords to /root/nltk_data...\n",
            "[nltk_data]   Unzipping corpora/stopwords.zip.\n"
          ]
        }
      ]
    },
    {
      "cell_type": "code",
      "source": [
        "len(summary)"
      ],
      "metadata": {
        "id": "bY-Vy3DUyMHI",
        "colab": {
          "base_uri": "https://localhost:8080/"
        },
        "outputId": "7a92c60a-dc86-4df3-d023-df67c2ce2a41"
      },
      "execution_count": null,
      "outputs": [
        {
          "output_type": "execute_result",
          "data": {
            "text/plain": [
              "3522"
            ]
          },
          "metadata": {},
          "execution_count": 23
        }
      ]
    },
    {
      "cell_type": "code",
      "source": [
        "import re\n",
        "\n",
        "def insert_full_stops(text, avg_words):\n",
        "    # Split the text into sentences\n",
        "    sentences = re.split(r'(?<=[.!?])\\s+', text)\n",
        "\n",
        "    # Initialize the result string\n",
        "    result = []\n",
        "\n",
        "    for sentence in sentences:\n",
        "        words = sentence.split()\n",
        "        word_count = len(words)\n",
        "\n",
        "        if word_count > 0:\n",
        "            # Calculate the number of words between full stops in the current sentence\n",
        "            words_between_stops = word_count - 1\n",
        "\n",
        "            # Calculate the number of additional full stops needed in the sentence\n",
        "            full_stops_needed = words_between_stops // avg_words\n",
        "\n",
        "            # Create a new sentence with additional full stops\n",
        "            new_sentence = \"\"\n",
        "            for i in range(word_count):\n",
        "                new_sentence += words[i]\n",
        "                if i < word_count - 1 and i % avg_words == avg_words - 1:\n",
        "                    new_sentence += \". \"\n",
        "                elif i < word_count - 1:\n",
        "                    new_sentence += \" \"\n",
        "\n",
        "            result.append(new_sentence)\n",
        "\n",
        "    # Join the sentences with full stops\n",
        "    final_text = \". \".join(result) + \".\"\n",
        "\n",
        "    return final_text\n",
        "\n",
        "# Example usage:\n",
        "text = summary\n",
        "average_words_between_stops = 10\n",
        "\n",
        "result = insert_full_stops(text, average_words_between_stops)\n",
        "print(result)\n"
      ],
      "metadata": {
        "colab": {
          "base_uri": "https://localhost:8080/"
        },
        "id": "PBV2GsL_4Ztz",
        "outputId": "55563bf7-d746-409d-84c4-92e7e2cde9bc"
      },
      "execution_count": null,
      "outputs": [
        {
          "output_type": "stream",
          "name": "stdout",
          "text": [
            "luna says two thousand fifty two million drove volkswagen across. continental united states one hundred gallons fuel eating one mile. gala performance double cars fuel reading set record wall fuel. consumption raw head diesel cars call piper miners art experts. techniques maximize course fuel efficiency halls walk top drivers celebrates. world 're traveling slightly ring youth slowly release throttle line. slightly invert n't understand strategy seems fuel least first one. exactly going beneath cars alert non electric cars wrong internal. combustion engines lysine heats cars often advertised warning six thwart. cylinder engine refers devices mean components cylinders beams distant moves. steaming known crane chap effectively converting new motion unusual rotary. motion drive wheels powers pistons movements engines earnings think combustion. piston lowers earth fuel course bleed cylinders chained thin piston. rise beard fuel mixture compressed gasoline engines start introduced igniting. gaps diesel engines decompression along create mimi explosion combustion causes. immediate increase temperature pressure propelling piston starts cycle gas pedal. controls amount beer subsequent fuel released chamber fuel chamber powerful. combustion making crankshaft rotate faster driving highway see cars spark. thousands clasp explosion car driving pretty inefficient much energy generated. lost hits fact sixteen twenty five percent goes towards moving. wheels explosions also krieg c.. o.. two seen engines produced fifteen percent tongue little girl initiates. polls glide increase efficiency two reasons first one excel mean. higher speeds polls engine works high efficiency come travel constantly. worst insect modern car engines shut fuel injection thought salary. new court lives heels partridge white inertial energy rather combustion. ultimately saving fuel even peak performance see hyper eilers ca. n't compete true champion fuel efficiency riots electric vehicle 's. wrong induction motors lean towards us peter inner wrote behavior. series wings copper wires wrapped around conducting electricity variable rates. wires knew teaching magnetic field field induces rover electrical current. causing spin driving notion wheels keith 's pressing accelerator changes. frequency occurrence truth wires dusty dirt turn increasing rate rollers. utilizing battery power rather gasoline sixty five sixty nine percent. energy consumed leaves goes let sun lives safety fuse n't. free explosions fewer parts needed bullet well typical high seat. cole two thousand feet ports hold container cool eighteenth combustion. typical teeth twenty completely changing heifer mind drivers key travel. farthest fewest kilowatt hours hit records likely get impressive sizzling. beating motorist else introduction innovative energy saving device fillings mostly. lies reaction break energy normally lost friction concerned course us. electric motor operates reverse capturing vehicles kinetic energy recharge batteries. companies n't quit thinking 's rooftops results increasing research since. n't 'll leave zero tailpipe emissions 's see 're always. called neutral 's require regular charging batteries meeting mission profile. electric utility plug soap little graves continue shift towards renewable. sources eve 's also becoming greener making even attractive heiberg. fish auction steps could taking vacation going electric reduce emissions. absolutely visit dante dot com slash school learn impact full. actions available community watched video learn going solar save money.\n"
          ]
        }
      ]
    },
    {
      "cell_type": "code",
      "source": [
        "import spacy\n",
        "\n",
        "# Load the spaCy English language model\n",
        "nlp = spacy.load(\"en_core_web_sm\")\n",
        "\n",
        "def break_text_into_sentences(text):\n",
        "    # Process the text using spaCy\n",
        "    doc = nlp(text)\n",
        "\n",
        "    # Initialize variables to track sentence boundaries\n",
        "    sentences = []\n",
        "    start = 0\n",
        "\n",
        "    for token in doc:\n",
        "        # Check if the token is a sentence boundary\n",
        "        if token.is_sent_start:\n",
        "            if start < token.i:\n",
        "                sentences.append(doc[start:token.i].text)\n",
        "            start = token.i\n",
        "\n",
        "    # Add the last sentence\n",
        "    if start < len(doc):\n",
        "        sentences.append(doc[start:len(doc)].text)\n",
        "\n",
        "    return sentences\n",
        "\n",
        "# Example usage\n",
        "text = result\n",
        "sentences = break_text_into_sentences(text)\n",
        "for i, sentence in enumerate(sentences):\n",
        "    sum=sentence\n",
        "    print(sum)\n",
        "\n"
      ],
      "metadata": {
        "colab": {
          "base_uri": "https://localhost:8080/"
        },
        "id": "S3ATaff6A0TL",
        "outputId": "110a51e9-eae6-42f4-970d-b8bf1818c600"
      },
      "execution_count": null,
      "outputs": [
        {
          "output_type": "stream",
          "name": "stdout",
          "text": [
            "luna says two thousand fifty two million drove volkswagen across.\n",
            "continental united states one hundred gallons fuel eating one mile.\n",
            "gala performance double cars fuel reading set record wall fuel.\n",
            "consumption raw head diesel cars call piper miners art experts.\n",
            "techniques maximize course fuel efficiency halls walk top drivers celebrates.\n",
            "world 're traveling slightly ring youth slowly release throttle line.\n",
            "slightly invert n't understand strategy seems fuel least first one.\n",
            "exactly going beneath cars alert non electric cars wrong internal.\n",
            "combustion engines lysine heats cars often advertised warning six thwart.\n",
            "cylinder engine refers devices mean components cylinders beams distant moves.\n",
            "steaming known crane chap effectively converting new motion unusual rotary.\n",
            "motion drive wheels powers pistons movements engines earnings think combustion.\n",
            "piston lowers earth fuel course bleed cylinders chained thin piston.\n",
            "rise beard fuel mixture compressed gasoline engines start introduced igniting.\n",
            "gaps diesel engines decompression along create mimi explosion combustion causes.\n",
            "immediate increase temperature pressure propelling piston starts cycle gas pedal.\n",
            "controls amount beer subsequent fuel released chamber fuel chamber powerful.\n",
            "combustion making crankshaft rotate faster driving highway see cars spark.\n",
            "thousands clasp explosion car driving pretty inefficient much energy generated.\n",
            "lost hits fact sixteen twenty five percent goes towards moving.\n",
            "wheels explosions also krieg c.. o.. two seen engines produced fifteen percent tongue little girl initiates.\n",
            "polls glide increase efficiency two reasons first one excel mean.\n",
            "higher speeds polls engine works high efficiency come travel constantly.\n",
            "worst insect modern car engines shut fuel injection thought salary.\n",
            "new court lives heels partridge white inertial energy rather combustion.\n",
            "ultimately saving fuel even peak performance see hyper eilers ca.\n",
            "n't compete true champion fuel efficiency riots electric vehicle 's. wrong induction motors lean towards us peter inner wrote behavior.\n",
            "series wings copper wires wrapped around conducting electricity variable rates.\n",
            "wires knew teaching magnetic field field induces rover electrical current.\n",
            "causing spin driving notion wheels keith 's pressing accelerator changes.\n",
            "frequency occurrence truth wires dusty dirt turn increasing rate rollers.\n",
            "utilizing battery power rather gasoline sixty five sixty nine percent.\n",
            "energy consumed leaves goes let sun lives safety fuse n't.\n",
            "free explosions fewer parts needed bullet well typical high seat.\n",
            "cole two thousand feet ports hold container cool eighteenth combustion.\n",
            "typical teeth twenty completely changing heifer mind drivers key travel.\n",
            "farthest fewest kilowatt hours hit records likely get impressive sizzling.\n",
            "beating motorist else introduction innovative energy saving device fillings mostly.\n",
            "lies reaction break energy normally lost friction concerned course us.\n",
            "electric motor operates reverse capturing vehicles kinetic energy recharge batteries.\n",
            "companies n't quit thinking 's rooftops results increasing research since.\n",
            "n't 'll leave zero tailpipe emissions 's see 're always.\n",
            "called neutral 's require regular charging batteries meeting mission profile.\n",
            "electric utility plug soap little graves continue shift towards renewable.\n",
            "sources eve 's also becoming greener making even attractive heiberg.\n",
            "fish auction steps could taking vacation going electric reduce emissions.\n",
            "absolutely visit dante dot com slash school learn impact full.\n",
            "actions available community watched video learn going solar save money.\n"
          ]
        }
      ]
    },
    {
      "cell_type": "code",
      "source": [],
      "metadata": {
        "colab": {
          "base_uri": "https://localhost:8080/"
        },
        "id": "J3RH3iRG-v5o",
        "outputId": "add66748-fbea-43d6-ff43-7173eb9c74fc"
      },
      "execution_count": null,
      "outputs": [
        {
          "output_type": "stream",
          "name": "stdout",
          "text": [
            "luna says two thousand fifty two million drove volkswagen across. continental united states one hundred gallons fuel eating one mile. gala performance double cars fuel reading set record wall fuel. consumption raw head diesel cars call piper miners art experts. techniques maximize course fuel efficiency halls walk top drivers celebrates. world 're traveling slightly ring youth slowly release throttle line. slightly invert n't understand strategy seems fuel least first one. exactly going beneath cars alert non electric cars wrong internal. combustion engines lysine heats cars often advertised warning six thwart. cylinder engine refers devices mean components cylinders beams distant moves. steaming known crane chap effectively converting new motion unusual rotary. motion drive wheels powers pistons movements engines earnings think combustion. piston lowers earth fuel course bleed cylinders chained thin piston. rise beard fuel mixture compressed gasoline engines start introduced igniting. gaps diesel engines decompression along create mimi explosion combustion causes. immediate increase temperature pressure propelling piston starts cycle gas pedal. controls amount beer subsequent fuel released chamber fuel chamber powerful. combustion making crankshaft rotate faster driving highway see cars spark. thousands clasp explosion car driving pretty inefficient much energy generated. lost hits fact sixteen twenty five percent goes towards moving. wheels explosions also krieg c.. o.. two seen engines produced fifteen percent tongue little girl initiates. polls glide increase efficiency two reasons first one excel mean. higher speeds polls engine works high efficiency come travel constantly. worst insect modern car engines shut fuel injection thought salary. new court lives heels partridge white inertial energy rather combustion. ultimately saving fuel even peak performance see hyper eilers ca. n't compete true champion fuel efficiency riots electric vehicle 's. wrong induction motors lean towards us peter inner wrote behavior. series wings copper wires wrapped around conducting electricity variable rates. wires knew teaching magnetic field field induces rover electrical current. causing spin driving notion wheels keith 's pressing accelerator changes. frequency occurrence truth wires dusty dirt turn increasing rate rollers. utilizing battery power rather gasoline sixty five sixty nine percent. energy consumed leaves goes let sun lives safety fuse n't. free explosions fewer parts needed bullet well typical high seat. cole two thousand feet ports hold container cool eighteenth combustion. typical teeth twenty completely changing heifer mind drivers key travel. farthest fewest kilowatt hours hit records likely get impressive sizzling. beating motorist else introduction innovative energy saving device fillings mostly. lies reaction break energy normally lost friction concerned course us. electric motor operates reverse capturing vehicles kinetic energy recharge batteries. companies n't quit thinking 's rooftops results increasing research since. n't 'll leave zero tailpipe emissions 's see 're always. called neutral 's require regular charging batteries meeting mission profile. electric utility plug soap little graves continue shift towards renewable. sources eve 's also becoming greener making even attractive heiberg. fish auction steps could taking vacation going electric reduce emissions. absolutely visit dante dot com slash school learn impact full. actions available community watched video learn going solar save money.\n"
          ]
        }
      ]
    },
    {
      "cell_type": "code",
      "source": [
        "pip install python-pptx"
      ],
      "metadata": {
        "colab": {
          "base_uri": "https://localhost:8080/"
        },
        "id": "8sEhQ23bHVtl",
        "outputId": "c2d92a4b-4fcd-485a-e2b0-bd86fa4011e9"
      },
      "execution_count": null,
      "outputs": [
        {
          "output_type": "stream",
          "name": "stdout",
          "text": [
            "Collecting python-pptx\n",
            "  Downloading python_pptx-0.6.22-py3-none-any.whl (471 kB)\n",
            "\u001b[?25l     \u001b[90m━━━━━━━━━━━━━━━━━━━━━━━━━━━━━━━━━━━━━━━━\u001b[0m \u001b[32m0.0/471.5 kB\u001b[0m \u001b[31m?\u001b[0m eta \u001b[36m-:--:--\u001b[0m\r\u001b[2K     \u001b[91m━━━━━━\u001b[0m\u001b[91m╸\u001b[0m\u001b[90m━━━━━━━━━━━━━━━━━━━━━━━━━━━━━━━━━\u001b[0m \u001b[32m81.9/471.5 kB\u001b[0m \u001b[31m2.5 MB/s\u001b[0m eta \u001b[36m0:00:01\u001b[0m\r\u001b[2K     \u001b[91m━━━━━━━━━━━━━━━━━━━━━━━━━━━━━━━━━━━━━━━\u001b[0m\u001b[91m╸\u001b[0m \u001b[32m471.0/471.5 kB\u001b[0m \u001b[31m8.1 MB/s\u001b[0m eta \u001b[36m0:00:01\u001b[0m\r\u001b[2K     \u001b[90m━━━━━━━━━━━━━━━━━━━━━━━━━━━━━━━━━━━━━━━━\u001b[0m \u001b[32m471.5/471.5 kB\u001b[0m \u001b[31m6.6 MB/s\u001b[0m eta \u001b[36m0:00:00\u001b[0m\n",
            "\u001b[?25hRequirement already satisfied: lxml>=3.1.0 in /usr/local/lib/python3.10/dist-packages (from python-pptx) (4.9.3)\n",
            "Requirement already satisfied: Pillow<=9.5.0,>=3.3.2 in /usr/local/lib/python3.10/dist-packages (from python-pptx) (9.4.0)\n",
            "Collecting XlsxWriter>=0.5.7 (from python-pptx)\n",
            "  Downloading XlsxWriter-3.1.8-py3-none-any.whl (154 kB)\n",
            "\u001b[2K     \u001b[90m━━━━━━━━━━━━━━━━━━━━━━━━━━━━━━━━━━━━━━━━\u001b[0m \u001b[32m154.8/154.8 kB\u001b[0m \u001b[31m18.8 MB/s\u001b[0m eta \u001b[36m0:00:00\u001b[0m\n",
            "\u001b[?25hInstalling collected packages: XlsxWriter, python-pptx\n",
            "Successfully installed XlsxWriter-3.1.8 python-pptx-0.6.22\n"
          ]
        }
      ]
    },
    {
      "cell_type": "code",
      "source": [
        "pip install nltk\n"
      ],
      "metadata": {
        "colab": {
          "base_uri": "https://localhost:8080/"
        },
        "id": "gXSpzcgG8MT-",
        "outputId": "5dee2c42-c7c7-40bd-d01c-92cf32d2dfcb"
      },
      "execution_count": null,
      "outputs": [
        {
          "output_type": "stream",
          "name": "stdout",
          "text": [
            "Requirement already satisfied: nltk in /usr/local/lib/python3.10/dist-packages (3.8.1)\n",
            "Requirement already satisfied: click in /usr/local/lib/python3.10/dist-packages (from nltk) (8.1.7)\n",
            "Requirement already satisfied: joblib in /usr/local/lib/python3.10/dist-packages (from nltk) (1.3.2)\n",
            "Requirement already satisfied: regex>=2021.8.3 in /usr/local/lib/python3.10/dist-packages (from nltk) (2023.6.3)\n",
            "Requirement already satisfied: tqdm in /usr/local/lib/python3.10/dist-packages (from nltk) (4.66.1)\n"
          ]
        }
      ]
    },
    {
      "cell_type": "code",
      "source": [
        "import nltk\n",
        "nltk.download('punkt')\n"
      ],
      "metadata": {
        "colab": {
          "base_uri": "https://localhost:8080/"
        },
        "id": "AF3ZAXEu8MQS",
        "outputId": "558d7c1c-6967-4219-f88d-3f7a35f771fc"
      },
      "execution_count": null,
      "outputs": [
        {
          "output_type": "stream",
          "name": "stderr",
          "text": [
            "[nltk_data] Downloading package punkt to /root/nltk_data...\n",
            "[nltk_data]   Package punkt is already up-to-date!\n"
          ]
        },
        {
          "output_type": "execute_result",
          "data": {
            "text/plain": [
              "True"
            ]
          },
          "metadata": {},
          "execution_count": 42
        }
      ]
    },
    {
      "cell_type": "code",
      "source": [
        "import nltk\n",
        "\n",
        "def split_sentences(text2):\n",
        "    # Tokenize the text into sentences\n",
        "    sentences = nltk.sent_tokenize(text2)\n",
        "    return sentences\n",
        "\n",
        "# Example usage:\n",
        "text2 = text\n",
        "sentences = split_sentences(text2)\n",
        "\n",
        "# 'sentences' is now a list containing individual sentences\n",
        "print(sentences)\n"
      ],
      "metadata": {
        "colab": {
          "base_uri": "https://localhost:8080/"
        },
        "id": "WIqI4njg8MMe",
        "outputId": "8292f3a1-85e1-4497-bf44-2141ea09afa1"
      },
      "execution_count": null,
      "outputs": [
        {
          "output_type": "stream",
          "name": "stdout",
          "text": [
            "['luna says two thousand fifty two million drove volkswagen across.', 'continental united states one hundred gallons fuel eating one mile.', 'gala performance double cars fuel reading set record wall fuel.', 'consumption raw head diesel cars call piper miners art experts.', 'techniques maximize course fuel efficiency halls walk top drivers celebrates.', \"world 're traveling slightly ring youth slowly release throttle line.\", \"slightly invert n't understand strategy seems fuel least first one.\", 'exactly going beneath cars alert non electric cars wrong internal.', 'combustion engines lysine heats cars often advertised warning six thwart.', 'cylinder engine refers devices mean components cylinders beams distant moves.', 'steaming known crane chap effectively converting new motion unusual rotary.', 'motion drive wheels powers pistons movements engines earnings think combustion.', 'piston lowers earth fuel course bleed cylinders chained thin piston.', 'rise beard fuel mixture compressed gasoline engines start introduced igniting.', 'gaps diesel engines decompression along create mimi explosion combustion causes.', 'immediate increase temperature pressure propelling piston starts cycle gas pedal.', 'controls amount beer subsequent fuel released chamber fuel chamber powerful.', 'combustion making crankshaft rotate faster driving highway see cars spark.', 'thousands clasp explosion car driving pretty inefficient much energy generated.', 'lost hits fact sixteen twenty five percent goes towards moving.', 'wheels explosions also krieg c.. o.. two seen engines produced fifteen percent tongue little girl initiates.', 'polls glide increase efficiency two reasons first one excel mean.', 'higher speeds polls engine works high efficiency come travel constantly.', 'worst insect modern car engines shut fuel injection thought salary.', 'new court lives heels partridge white inertial energy rather combustion.', 'ultimately saving fuel even peak performance see hyper eilers ca.', \"n't compete true champion fuel efficiency riots electric vehicle 's.\", 'wrong induction motors lean towards us peter inner wrote behavior.', 'series wings copper wires wrapped around conducting electricity variable rates.', 'wires knew teaching magnetic field field induces rover electrical current.', \"causing spin driving notion wheels keith 's pressing accelerator changes.\", 'frequency occurrence truth wires dusty dirt turn increasing rate rollers.', 'utilizing battery power rather gasoline sixty five sixty nine percent.', \"energy consumed leaves goes let sun lives safety fuse n't.\", 'free explosions fewer parts needed bullet well typical high seat.', 'cole two thousand feet ports hold container cool eighteenth combustion.', 'typical teeth twenty completely changing heifer mind drivers key travel.', 'farthest fewest kilowatt hours hit records likely get impressive sizzling.', 'beating motorist else introduction innovative energy saving device fillings mostly.', 'lies reaction break energy normally lost friction concerned course us.', 'electric motor operates reverse capturing vehicles kinetic energy recharge batteries.', \"companies n't quit thinking 's rooftops results increasing research since.\", \"n't 'll leave zero tailpipe emissions 's see 're always.\", \"called neutral 's require regular charging batteries meeting mission profile.\", 'electric utility plug soap little graves continue shift towards renewable.', \"sources eve 's also becoming greener making even attractive heiberg.\", 'fish auction steps could taking vacation going electric reduce emissions.', 'absolutely visit dante dot com slash school learn impact full.', 'actions available community watched video learn going solar save money.']\n"
          ]
        }
      ]
    },
    {
      "cell_type": "code",
      "source": [
        "from pptx import Presentation\n",
        "from pptx.util import Inches, Pt\n",
        "from pptx.enum.text import PP_ALIGN\n",
        "from pptx.enum.shapes import MSO_SHAPE\n",
        "from pptx.dml.color import RGBColor"
      ],
      "metadata": {
        "id": "CXi_Fo5Y8MKk"
      },
      "execution_count": null,
      "outputs": []
    },
    {
      "cell_type": "code",
      "source": [
        "from pptx import Presentation\n",
        "from pptx.util import Inches, Pt\n",
        "from pptx.enum.text import PP_ALIGN\n",
        "from pptx.enum.shapes import MSO_SHAPE\n",
        "from pptx.dml.color import RGBColor\n",
        "from pptx.oxml.ns import nsdecls\n",
        "from pptx.oxml import parse_xml\n",
        "\n",
        "def create_bullet_points_ppt(bullet_points, max_points_per_slide=5):\n",
        "    presentation = Presentation()\n",
        "\n",
        "    slide_layout = presentation.slide_layouts[5]  # Use the desired slide layout (5 is for title and content)\n",
        "\n",
        "    slide = None\n",
        "    bullet_point_count = 0\n",
        "\n",
        "    for point in bullet_points:\n",
        "        if bullet_point_count % max_points_per_slide == 0:\n",
        "            slide = presentation.slides.add_slide(slide_layout)\n",
        "            bullet_point_count = 0\n",
        "\n",
        "        left = Inches(1)  # Adjust left and top values to position the text within the slide frame\n",
        "        top = Inches(1.5) + bullet_point_count * Inches(0.3)\n",
        "        width = Inches(8)\n",
        "        height = Inches(0.3)\n",
        "\n",
        "        text_box = slide.shapes.add_textbox(left, top, width, height)\n",
        "        text_frame = text_box.text_frame\n",
        "\n",
        "        p = text_frame.add_paragraph()\n",
        "        p.alignment = PP_ALIGN.LEFT\n",
        "        p.space_before = Pt(8)\n",
        "        p.space_after = Pt(8)\n",
        "\n",
        "        # Add bullet point marker (numbered bullet)\n",
        "        bullet_marker = p.add_run()\n",
        "        bullet_marker.text = f\"{bullet_point_count + 1}. \"\n",
        "        bullet_marker.font.size = Pt(14)  # Adjust the font size for bullet points\n",
        "        bullet_marker.bold = True\n",
        "\n",
        "        # Add the bullet point text\n",
        "        text = p.add_run()\n",
        "        text.text = point\n",
        "        text.font.size = Pt(16)  # Adjust the font size for the text\n",
        "        text.font.color.rgb = RGBColor(0, 0, 0)  # Adjust the font color\n",
        "\n",
        "        bullet_point_count += 1\n",
        "\n",
        "    presentation.save(\"bullet_points.pptx\")\n",
        "\n",
        "if __name__ == \"__main__\":\n",
        "    bullet_points = sentences\n",
        "    create_bullet_points_ppt(bullet_points, max_points_per_slide=5)\n"
      ],
      "metadata": {
        "id": "ReAyNdyu8MHt"
      },
      "execution_count": null,
      "outputs": []
    },
    {
      "cell_type": "code",
      "source": [
        "from pptx import Presentation\n",
        "from pptx.util import Inches, Pt\n",
        "from pptx.enum.text import PP_ALIGN\n",
        "from pptx.enum.shapes import MSO_SHAPE\n",
        "from pptx.dml.color import RGBColor\n",
        "from pptx.oxml.ns import nsdecls\n",
        "from pptx.oxml import parse_xml\n",
        "\n",
        "def split_text_into_lines(text, max_words_per_line=10):\n",
        "    words = text.split()\n",
        "    lines = []\n",
        "    current_line = []\n",
        "    word_count = 0\n",
        "\n",
        "    for word in words:\n",
        "        current_line.append(word)\n",
        "        word_count += 1\n",
        "\n",
        "        if word_count >= max_words_per_line:\n",
        "            lines.append(' '.join(current_line))\n",
        "            current_line = []\n",
        "            word_count = 0\n",
        "\n",
        "    if current_line:\n",
        "        lines.append(' '.join(current_line))\n",
        "\n",
        "    return lines\n",
        "\n",
        "def create_bullet_points_ppt(bullet_points, max_points_per_slide=5, max_words_per_line=10):\n",
        "    presentation = Presentation()\n",
        "\n",
        "    slide_layout = presentation.slide_layouts[5]  # Use the desired slide layout (5 is for title and content)\n",
        "\n",
        "    slide = None\n",
        "    bullet_point_count = 0\n",
        "\n",
        "    for point in bullet_points:\n",
        "        if bullet_point_count % max_points_per_slide == 0:\n",
        "            slide = presentation.slides.add_slide(slide_layout)\n",
        "            bullet_point_count = 0\n",
        "\n",
        "        left = Inches(1)  # Adjust left and top values to position the text within the slide frame\n",
        "        top = Inches(1.5) + bullet_point_count * Inches(0.3)\n",
        "        width = Inches(8)\n",
        "        height = Inches(0.3)\n",
        "\n",
        "        text_box = slide.shapes.add_textbox(left, top, width, height)\n",
        "        text_frame = text_box.text_frame\n",
        "\n",
        "        lines = split_text_into_lines(point, max_words_per_line)\n",
        "\n",
        "        for line in lines:\n",
        "            p = text_frame.add_paragraph()\n",
        "            p.alignment = PP_ALIGN.LEFT\n",
        "            p.space_before = Pt(8)\n",
        "            p.space_after = Pt(8)\n",
        "\n",
        "            # Add bullet point marker (numbered bullet)\n",
        "            bullet_marker = p.add_run()\n",
        "            bullet_marker.text = f\"{bullet_point_count + 1}. \"\n",
        "            bullet_marker.font.size = Pt(14)  # Adjust the font size for bullet points\n",
        "            bullet_marker.bold = True\n",
        "\n",
        "            # Add the bullet point text\n",
        "            text = p.add_run()\n",
        "            text.text = line\n",
        "            text.font.size = Pt(16)  # Adjust the font size for the text\n",
        "            text.font.color.rgb = RGBColor(0, 0, 0)  # Adjust the font color\n",
        "\n",
        "            bullet_point_count += 1\n",
        "\n",
        "    presentation.save(\"bullet_points.pptx\")\n",
        "\n",
        "if __name__ == \"__main__\":\n",
        "    bullet_points = sentences\n",
        "\n",
        "    create_bullet_points_ppt(bullet_points, max_points_per_slide=10)\n"
      ],
      "metadata": {
        "id": "5usJ5h-68MAK"
      },
      "execution_count": null,
      "outputs": []
    },
    {
      "cell_type": "code",
      "source": [
        " from pptx import Presentation\n",
        "from pptx.util import Inches, Pt\n",
        "from pptx.enum.text import PP_ALIGN\n",
        "from pptx.enum.shapes import MSO_SHAPE\n",
        "from pptx.dml.color import RGBColor\n",
        "from pptx.oxml.ns import nsdecls\n",
        "from pptx.oxml import parse_xml\n",
        "\n",
        "def split_text_into_lines(text, max_words_per_line=10):\n",
        "    words = text.split()\n",
        "    lines = []\n",
        "    current_line = []\n",
        "    word_count = 0\n",
        "\n",
        "    for word in words:\n",
        "        current_line.append(word)\n",
        "        word_count += 1\n",
        "\n",
        "        if word_count >= max_words_per_line:\n",
        "            lines.append(' '.join(current_line))\n",
        "            current_line = []\n",
        "            word_count = 0\n",
        "\n",
        "    if current_line:\n",
        "        lines.append(' '.join(current_line))\n",
        "\n",
        "    return lines\n",
        "\n",
        "def create_bullet_points_ppt(bullet_points, max_points_per_slide=5, max_words_per_line=10):\n",
        "    presentation = Presentation()\n",
        "\n",
        "    slide_layout = presentation.slide_layouts[5]  # Use the desired slide layout (5 is for title and content)\n",
        "\n",
        "    slide = None\n",
        "    bullet_point_count = 0\n",
        "\n",
        "    for point in bullet_points:\n",
        "        if bullet_point_count % max_points_per_slide == 0:\n",
        "            slide = presentation.slides.add_slide(slide_layout)\n",
        "            bullet_point_count = 0\n",
        "\n",
        "        left = Inches(1)  # Adjust left and top values to position the text within the slide frame\n",
        "        top = Inches(1.5) + bullet_point_count * Inches(0.3)\n",
        "        width = Inches(8)\n",
        "        height = Inches(0.3)\n",
        "\n",
        "        text_box = slide.shapes.add_textbox(left, top, width, height)\n",
        "        text_frame = text_box.text_frame\n",
        "\n",
        "        # Set the line spacing (line height) to 1.5 times the font size (you can adjust as needed)\n",
        "        text_frame.paragraphs[0].space_after = Pt(12)\n",
        "\n",
        "        lines = split_text_into_lines(point, max_words_per_line)\n",
        "\n",
        "        for line in lines:\n",
        "            p = text_frame.add_paragraph()\n",
        "            p.alignment = PP_ALIGN.LEFT\n",
        "            p.space_before = Pt(8)\n",
        "            p.space_after = Pt(8)\n",
        "\n",
        "            # Add bullet point marker (numbered bullet)\n",
        "            bullet_marker = p.add_run()\n",
        "            bullet_marker.text = f\"{bullet_point_count + 1}. \"\n",
        "            bullet_marker.font.size = Pt(14)  # Adjust the font size for bullet points\n",
        "            bullet_marker.bold = True\n",
        "\n",
        "            # Add the bullet point text\n",
        "            text = p.add_run()\n",
        "            text.text = line\n",
        "            text.font.size = Pt(16)  # Adjust the font size for the text\n",
        "            text.font.color.rgb = RGBColor(0, 0, 0)  # Adjust the font color\n",
        "\n",
        "            bullet_point_count += 1\n",
        "\n",
        "    presentation.save(\"bullet_points.pptx\")\n",
        "\n",
        "if __name__ == \"__main__\":\n",
        "    bullet_points = sentences\n",
        "    create_bullet_points_ppt(bullet_points, max_points_per_slide=10)\n"
      ],
      "metadata": {
        "id": "0a6L8QFQ8L9D"
      },
      "execution_count": null,
      "outputs": []
    },
    {
      "cell_type": "code",
      "source": [],
      "metadata": {
        "id": "TpthlBvt8L5v"
      },
      "execution_count": null,
      "outputs": []
    },
    {
      "cell_type": "code",
      "source": [],
      "metadata": {
        "id": "run1bmcT8L3S"
      },
      "execution_count": null,
      "outputs": []
    },
    {
      "cell_type": "code",
      "source": [],
      "metadata": {
        "id": "UGXkhKQe8L0A"
      },
      "execution_count": null,
      "outputs": []
    },
    {
      "cell_type": "code",
      "source": [],
      "metadata": {
        "id": "XwPh9UOW8Lw8"
      },
      "execution_count": null,
      "outputs": []
    },
    {
      "cell_type": "code",
      "source": [],
      "metadata": {
        "id": "Pn3tDQfSEu9P"
      },
      "execution_count": null,
      "outputs": []
    }
  ]
}